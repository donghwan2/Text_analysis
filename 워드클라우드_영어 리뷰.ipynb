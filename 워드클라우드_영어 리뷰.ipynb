{
 "cells": [
  {
   "cell_type": "code",
   "execution_count": 56,
   "metadata": {},
   "outputs": [],
   "source": []
  },
  {
   "cell_type": "code",
   "execution_count": 1,
   "metadata": {
    "scrolled": true
   },
   "outputs": [
    {
     "data": {
      "text/plain": [
       "'/Users/aiden/Desktop'"
      ]
     },
     "execution_count": 1,
     "metadata": {},
     "output_type": "execute_result"
    }
   ],
   "source": [
    "pwd"
   ]
  },
  {
   "cell_type": "code",
   "execution_count": 57,
   "metadata": {},
   "outputs": [],
   "source": [
    "import pandas as pd\n",
    "import numpy as np\n",
    "\n",
    "from PIL import Image\n",
    "import PIL.Image as pilimg\n",
    "import matplotlib.pyplot as plt\n",
    "from wordcloud import WordCloud, STOPWORDS\n",
    "%matplotlib inline"
   ]
  },
  {
   "cell_type": "code",
   "execution_count": 58,
   "metadata": {},
   "outputs": [
    {
     "name": "stdout",
     "output_type": "stream",
     "text": [
      "(25000, 3)\n"
     ]
    },
    {
     "data": {
      "text/html": [
       "<div>\n",
       "<style scoped>\n",
       "    .dataframe tbody tr th:only-of-type {\n",
       "        vertical-align: middle;\n",
       "    }\n",
       "\n",
       "    .dataframe tbody tr th {\n",
       "        vertical-align: top;\n",
       "    }\n",
       "\n",
       "    .dataframe thead th {\n",
       "        text-align: right;\n",
       "    }\n",
       "</style>\n",
       "<table border=\"1\" class=\"dataframe\">\n",
       "  <thead>\n",
       "    <tr style=\"text-align: right;\">\n",
       "      <th></th>\n",
       "      <th>id</th>\n",
       "      <th>sentiment</th>\n",
       "      <th>review</th>\n",
       "    </tr>\n",
       "  </thead>\n",
       "  <tbody>\n",
       "    <tr>\n",
       "      <th>0</th>\n",
       "      <td>\"5814_8\"</td>\n",
       "      <td>1</td>\n",
       "      <td>\"With all this stuff going down at the moment ...</td>\n",
       "    </tr>\n",
       "    <tr>\n",
       "      <th>1</th>\n",
       "      <td>\"2381_9\"</td>\n",
       "      <td>1</td>\n",
       "      <td>\"\\\"The Classic War of the Worlds\\\" by Timothy ...</td>\n",
       "    </tr>\n",
       "    <tr>\n",
       "      <th>2</th>\n",
       "      <td>\"7759_3\"</td>\n",
       "      <td>0</td>\n",
       "      <td>\"The film starts with a manager (Nicholas Bell...</td>\n",
       "    </tr>\n",
       "    <tr>\n",
       "      <th>3</th>\n",
       "      <td>\"3630_4\"</td>\n",
       "      <td>0</td>\n",
       "      <td>\"It must be assumed that those who praised thi...</td>\n",
       "    </tr>\n",
       "    <tr>\n",
       "      <th>4</th>\n",
       "      <td>\"9495_8\"</td>\n",
       "      <td>1</td>\n",
       "      <td>\"Superbly trashy and wondrously unpretentious ...</td>\n",
       "    </tr>\n",
       "  </tbody>\n",
       "</table>\n",
       "</div>"
      ],
      "text/plain": [
       "         id  sentiment                                             review\n",
       "0  \"5814_8\"          1  \"With all this stuff going down at the moment ...\n",
       "1  \"2381_9\"          1  \"\\\"The Classic War of the Worlds\\\" by Timothy ...\n",
       "2  \"7759_3\"          0  \"The film starts with a manager (Nicholas Bell...\n",
       "3  \"3630_4\"          0  \"It must be assumed that those who praised thi...\n",
       "4  \"9495_8\"          1  \"Superbly trashy and wondrously unpretentious ..."
      ]
     },
     "execution_count": 58,
     "metadata": {},
     "output_type": "execute_result"
    }
   ],
   "source": [
    "review_df = pd.read_csv('./labeledTrainData.tsv', header=0, sep=\"\\t\", quoting=3)\n",
    "\n",
    "print(review_df.shape)\n",
    "review_df.head()"
   ]
  },
  {
   "cell_type": "code",
   "execution_count": 59,
   "metadata": {},
   "outputs": [],
   "source": [
    "text = review_df['review'][0]"
   ]
  },
  {
   "cell_type": "code",
   "execution_count": 60,
   "metadata": {},
   "outputs": [
    {
     "data": {
      "text/plain": [
       "'\"With all this stuff going down at the moment with MJ i\\'ve started listening to his music, watching the odd documentary here and there, watched The Wiz and watched Moonwalker again. Maybe i just want to get a certain insight into this guy who i thought was really cool in the eighties just to maybe make up my mind whether he is guilty or innocent. Moonwalker is part biography, part feature film which i remember going to see at the cinema when it was originally released. Some of it has subtle messages about MJ\\'s feeling towards the press and also the obvious message of drugs are bad m\\'kay.<br /><br />Visually impressive but of course this is all about Michael Jackson so unless you remotely like MJ in anyway then you are going to hate this and find it boring. Some may call MJ an egotist for consenting to the making of this movie BUT MJ and most of his fans would say that he made it for the fans which if true is really nice of him.<br /><br />The actual feature film bit when it finally starts is only on for 20 minutes or so excluding the Smooth Criminal sequence and Joe Pesci is convincing as a psychopathic all powerful drug lord. Why he wants MJ dead so bad is beyond me. Because MJ overheard his plans? Nah, Joe Pesci\\'s character ranted that he wanted people to know it is he who is supplying drugs etc so i dunno, maybe he just hates MJ\\'s music.<br /><br />Lots of cool things in this like MJ turning into a car and a robot and the whole Speed Demon sequence. Also, the director must have had the patience of a saint when it came to filming the kiddy Bad sequence as usually directors hate working with one kid let alone a whole bunch of them performing a complex dance scene.<br /><br />Bottom line, this movie is for people who like MJ on one level or another (which i think is most people). If not, then stay away. It does try and give off a wholesome message and ironically MJ\\'s bestest buddy in this movie is a girl! Michael Jackson is truly one of the most talented people ever to grace this planet but is he guilty? Well, with all the attention i\\'ve gave this subject....hmmm well i don\\'t know because people can be different behind closed doors, i know this for a fact. He is either an extremely nice but stupid guy or one of the most sickest liars. I hope he is not the latter.\"'"
      ]
     },
     "execution_count": 60,
     "metadata": {},
     "output_type": "execute_result"
    }
   ],
   "source": [
    "text"
   ]
  },
  {
   "cell_type": "code",
   "execution_count": 61,
   "metadata": {},
   "outputs": [
    {
     "data": {
      "text/plain": [
       "array([[[255, 255, 255, 255],\n",
       "        [255, 255, 255, 255],\n",
       "        [255, 255, 255, 255],\n",
       "        ...,\n",
       "        [255, 255, 255, 255],\n",
       "        [255, 255, 255, 255],\n",
       "        [255, 255, 255, 255]],\n",
       "\n",
       "       [[255, 255, 255, 255],\n",
       "        [255, 255, 255, 255],\n",
       "        [255, 255, 255, 255],\n",
       "        ...,\n",
       "        [255, 255, 255, 255],\n",
       "        [255, 255, 255, 255],\n",
       "        [255, 255, 255, 255]],\n",
       "\n",
       "       [[255, 255, 255, 255],\n",
       "        [255, 255, 255, 255],\n",
       "        [255, 255, 255, 255],\n",
       "        ...,\n",
       "        [255, 255, 255, 255],\n",
       "        [255, 255, 255, 255],\n",
       "        [255, 255, 255, 255]],\n",
       "\n",
       "       ...,\n",
       "\n",
       "       [[255, 255, 255, 255],\n",
       "        [255, 255, 255, 255],\n",
       "        [255, 255, 255, 255],\n",
       "        ...,\n",
       "        [255, 255, 255, 255],\n",
       "        [255, 255, 255, 255],\n",
       "        [255, 255, 255, 255]],\n",
       "\n",
       "       [[255, 255, 255, 255],\n",
       "        [255, 255, 255, 255],\n",
       "        [255, 255, 255, 255],\n",
       "        ...,\n",
       "        [255, 255, 255, 255],\n",
       "        [255, 255, 255, 255],\n",
       "        [255, 255, 255, 255]],\n",
       "\n",
       "       [[255, 255, 255, 255],\n",
       "        [255, 255, 255, 255],\n",
       "        [255, 255, 255, 255],\n",
       "        ...,\n",
       "        [255, 255, 255, 255],\n",
       "        [255, 255, 255, 255],\n",
       "        [255, 255, 255, 255]]], dtype=uint8)"
      ]
     },
     "execution_count": 61,
     "metadata": {},
     "output_type": "execute_result"
    }
   ],
   "source": [
    "mask = np.array(Image.open('bird.png'))\n",
    "mask"
   ]
  },
  {
   "cell_type": "code",
   "execution_count": 62,
   "metadata": {},
   "outputs": [
    {
     "data": {
      "text/plain": [
       "<matplotlib.image.AxesImage at 0x1cd3fd3c970>"
      ]
     },
     "execution_count": 62,
     "metadata": {},
     "output_type": "execute_result"
    },
    {
     "data": {
      "image/png": "[encoded data removed]",
      "text/plain": [
       "<Figure size 432x288 with 1 Axes>"
      ]
     },
     "metadata": {
      "needs_background": "light"
     },
     "output_type": "display_data"
    }
   ],
   "source": [
    "plt.imshow(mask)"
   ]
  },
  {
   "cell_type": "code",
   "execution_count": 63,
   "metadata": {},
   "outputs": [],
   "source": [
    "stopwords = {'the', 'i', 'you', 'am', 'are', 'were', 'was', 'we', 'our', 'us'}"
   ]
  },
  {
   "cell_type": "code",
   "execution_count": 48,
   "metadata": {},
   "outputs": [
    {
     "data": {
      "text/plain": [
       "{'is': 1.0,\n",
       " 'a': 0.75,\n",
       " 'this': 0.6875,\n",
       " 'MJ': 0.6875,\n",
       " 'of': 0.6875,\n",
       " 'and': 0.625,\n",
       " 'to': 0.5625,\n",
       " 'he': 0.5625,\n",
       " 'it': 0.5,\n",
       " 'br': 0.5,\n",
       " 'for': 0.3125,\n",
       " 'people': 0.3125,\n",
       " 'with': 0.25,\n",
       " 'all': 0.25,\n",
       " 'in': 0.25,\n",
       " 'or': 0.25,\n",
       " 'but': 0.25,\n",
       " 'so': 0.25,\n",
       " 'most': 0.25,\n",
       " 'one': 0.25,\n",
       " 'going': 0.1875,\n",
       " 'his': 0.1875,\n",
       " 'maybe': 0.1875,\n",
       " 'just': 0.1875,\n",
       " 'who': 0.1875,\n",
       " 'which': 0.1875,\n",
       " 'when': 0.1875,\n",
       " 'message': 0.1875,\n",
       " 'bad': 0.1875,\n",
       " 'like': 0.1875,\n",
       " 'hate': 0.1875,\n",
       " 'movie': 0.1875,\n",
       " 'sequence': 0.1875,\n",
       " 'drug': 0.1875,\n",
       " 'know': 0.1875,\n",
       " 'at': 0.125,\n",
       " \"i've\": 0.125,\n",
       " 'music': 0.125,\n",
       " 'watched': 0.125,\n",
       " 'Moonwalker': 0.125,\n",
       " 'want': 0.125,\n",
       " 'into': 0.125,\n",
       " 'guy': 0.125,\n",
       " 'really': 0.125,\n",
       " 'cool': 0.125,\n",
       " 'guilty': 0.125,\n",
       " 'part': 0.125,\n",
       " 'feature': 0.125,\n",
       " 'film': 0.125,\n",
       " 'Some': 0.125,\n",
       " 'about': 0.125,\n",
       " 'also': 0.125,\n",
       " 'Michael': 0.125,\n",
       " 'Jackson': 0.125,\n",
       " 'then': 0.125,\n",
       " 'an': 0.125,\n",
       " 'fans': 0.125,\n",
       " 'that': 0.125,\n",
       " 'if': 0.125,\n",
       " 'nice': 0.125,\n",
       " 'on': 0.125,\n",
       " 'Joe': 0.125,\n",
       " 'Pesci': 0.125,\n",
       " 'Because': 0.125,\n",
       " 'whole': 0.125,\n",
       " 'director': 0.125,\n",
       " 'not': 0.125,\n",
       " 'Well': 0.125,\n",
       " 'stuff': 0.0625,\n",
       " 'down': 0.0625,\n",
       " 'moment': 0.0625,\n",
       " 'started': 0.0625,\n",
       " 'listening': 0.0625,\n",
       " 'watching': 0.0625,\n",
       " 'odd': 0.0625,\n",
       " 'documentary': 0.0625,\n",
       " 'here': 0.0625,\n",
       " 'there': 0.0625,\n",
       " 'Wiz': 0.0625,\n",
       " 'again': 0.0625,\n",
       " 'get': 0.0625,\n",
       " 'certain': 0.0625,\n",
       " 'insight': 0.0625,\n",
       " 'thought': 0.0625,\n",
       " 'eighties': 0.0625,\n",
       " 'make': 0.0625,\n",
       " 'up': 0.0625,\n",
       " 'my': 0.0625,\n",
       " 'mind': 0.0625,\n",
       " 'whether': 0.0625,\n",
       " 'innocent': 0.0625,\n",
       " 'biography': 0.0625,\n",
       " 'remember': 0.0625,\n",
       " 'see': 0.0625,\n",
       " 'cinema': 0.0625,\n",
       " 'originally': 0.0625,\n",
       " 'released': 0.0625,\n",
       " 'has': 0.0625,\n",
       " 'subtle': 0.0625,\n",
       " 'feeling': 0.0625,\n",
       " 'towards': 0.0625,\n",
       " 'press': 0.0625,\n",
       " 'obvious': 0.0625,\n",
       " \"m'kay\": 0.0625,\n",
       " 'Visually': 0.0625,\n",
       " 'impressive': 0.0625,\n",
       " 'course': 0.0625,\n",
       " 'unless': 0.0625,\n",
       " 'remotely': 0.0625,\n",
       " 'anyway': 0.0625,\n",
       " 'find': 0.0625,\n",
       " 'boring': 0.0625,\n",
       " 'may': 0.0625,\n",
       " 'call': 0.0625,\n",
       " 'egotist': 0.0625,\n",
       " 'consenting': 0.0625,\n",
       " 'making': 0.0625,\n",
       " 'would': 0.0625,\n",
       " 'say': 0.0625,\n",
       " 'made': 0.0625,\n",
       " 'true': 0.0625,\n",
       " 'him': 0.0625,\n",
       " 'actual': 0.0625,\n",
       " 'bit': 0.0625,\n",
       " 'finally': 0.0625,\n",
       " 'starts': 0.0625,\n",
       " 'only': 0.0625,\n",
       " 'minutes': 0.0625,\n",
       " 'excluding': 0.0625,\n",
       " 'Smooth': 0.0625,\n",
       " 'Criminal': 0.0625,\n",
       " 'convincing': 0.0625,\n",
       " 'psychopathic': 0.0625,\n",
       " 'powerful': 0.0625,\n",
       " 'lord': 0.0625,\n",
       " 'Why': 0.0625,\n",
       " 'dead': 0.0625,\n",
       " 'beyond': 0.0625,\n",
       " 'me': 0.0625,\n",
       " 'overheard': 0.0625,\n",
       " 'plans': 0.0625,\n",
       " 'Nah': 0.0625,\n",
       " 'character': 0.0625,\n",
       " 'ranted': 0.0625,\n",
       " 'wanted': 0.0625,\n",
       " 'supplying': 0.0625,\n",
       " 'etc': 0.0625,\n",
       " 'dunno': 0.0625,\n",
       " 'Lots': 0.0625,\n",
       " 'things': 0.0625,\n",
       " 'turning': 0.0625,\n",
       " 'car': 0.0625,\n",
       " 'robot': 0.0625,\n",
       " 'Speed': 0.0625,\n",
       " 'Demon': 0.0625,\n",
       " 'must': 0.0625,\n",
       " 'have': 0.0625,\n",
       " 'had': 0.0625,\n",
       " 'patience': 0.0625,\n",
       " 'saint': 0.0625,\n",
       " 'came': 0.0625,\n",
       " 'filming': 0.0625,\n",
       " 'kiddy': 0.0625,\n",
       " 'usually': 0.0625,\n",
       " 'working': 0.0625,\n",
       " 'kid': 0.0625,\n",
       " 'let': 0.0625,\n",
       " 'alone': 0.0625,\n",
       " 'bunch': 0.0625,\n",
       " 'them': 0.0625,\n",
       " 'performing': 0.0625,\n",
       " 'complex': 0.0625,\n",
       " 'dance': 0.0625,\n",
       " 'scene': 0.0625,\n",
       " 'Bottom': 0.0625,\n",
       " 'line': 0.0625,\n",
       " 'level': 0.0625,\n",
       " 'another': 0.0625,\n",
       " 'think': 0.0625,\n",
       " 'stay': 0.0625,\n",
       " 'away': 0.0625,\n",
       " 'does': 0.0625,\n",
       " 'try': 0.0625,\n",
       " 'give': 0.0625,\n",
       " 'off': 0.0625,\n",
       " 'wholesome': 0.0625,\n",
       " 'ironically': 0.0625,\n",
       " 'bestest': 0.0625,\n",
       " 'buddy': 0.0625,\n",
       " 'girl': 0.0625,\n",
       " 'truly': 0.0625,\n",
       " 'talented': 0.0625,\n",
       " 'ever': 0.0625,\n",
       " 'grace': 0.0625,\n",
       " 'planet': 0.0625,\n",
       " 'attention': 0.0625,\n",
       " 'gave': 0.0625,\n",
       " 'subject': 0.0625,\n",
       " 'hmmm': 0.0625,\n",
       " \"don't\": 0.0625,\n",
       " 'can': 0.0625,\n",
       " 'be': 0.0625,\n",
       " 'different': 0.0625,\n",
       " 'behind': 0.0625,\n",
       " 'closed': 0.0625,\n",
       " 'doors': 0.0625,\n",
       " 'fact': 0.0625,\n",
       " 'either': 0.0625,\n",
       " 'extremely': 0.0625,\n",
       " 'stupid': 0.0625,\n",
       " 'sickest': 0.0625,\n",
       " 'liars': 0.0625,\n",
       " 'hope': 0.0625,\n",
       " 'latter': 0.0625}"
      ]
     },
     "execution_count": 48,
     "metadata": {},
     "output_type": "execute_result"
    }
   ],
   "source": [
    "# 그리고 다음과 같이 WordCloud 객체를 만들고\n",
    "wc = WordCloud(font_path='c:/Windows/Fonts/malgun.ttf',\n",
    "               background_color=\"white\",\n",
    "               stopwords = stopwords,\n",
    "               max_words=20000,\n",
    "               mask=mask,\n",
    "               max_font_size=300).generate(text)\n",
    "wc.words_"
   ]
  },
  {
   "cell_type": "code",
   "execution_count": 49,
   "metadata": {},
   "outputs": [
    {
     "data": {
      "text/plain": [
       "<matplotlib.image.AxesImage at 0x1cd3d732310>"
      ]
     },
     "execution_count": 49,
     "metadata": {},
     "output_type": "execute_result"
    },
    {
     "data": {
      "image/png": "[encoded data removed]",
      "text/plain": [
       "<Figure size 432x288 with 1 Axes>"
      ]
     },
     "metadata": {
      "needs_background": "light"
     },
     "output_type": "display_data"
    }
   ],
   "source": [
    "plt.imshow(wc)"
   ]
  },
  {
   "cell_type": "code",
   "execution_count": 50,
   "metadata": {},
   "outputs": [
    {
     "data": {
      "text/plain": [
       "<wordcloud.wordcloud.WordCloud at 0x1cd39f75070>"
      ]
     },
     "execution_count": 50,
     "metadata": {},
     "output_type": "execute_result"
    }
   ],
   "source": [
    "# 다음과 같이 파일로 저장\n",
    "wc.to_file('test_wc3.png')"
   ]
  },
  {
   "cell_type": "code",
   "execution_count": null,
   "metadata": {},
   "outputs": [],
   "source": []
  },
  {
   "cell_type": "code",
   "execution_count": null,
   "metadata": {},
   "outputs": [],
   "source": []
  },
  {
   "cell_type": "code",
   "execution_count": null,
   "metadata": {},
   "outputs": [],
   "source": []
  },
  {
   "cell_type": "code",
   "execution_count": null,
   "metadata": {},
   "outputs": [],
   "source": []
  }
 ],
 "metadata": {
  "kernelspec": {
   "display_name": "Python 3",
   "language": "python",
   "name": "python3"
  },
  "language_info": {
   "codemirror_mode": {
    "name": "ipython",
    "version": 3
   },
   "file_extension": ".py",
   "mimetype": "text/x-python",
   "name": "python",
   "nbconvert_exporter": "python",
   "pygments_lexer": "ipython3",
   "version": "3.8.5"
  },
  "varInspector": {
   "cols": {
    "lenName": 16,
    "lenType": 16,
    "lenVar": 40
   },
   "kernels_config": {
    "python": {
     "delete_cmd_postfix": "",
     "delete_cmd_prefix": "del ",
     "library": "var_list.py",
     "varRefreshCmd": "print(var_dic_list())"
    },
    "r": {
     "delete_cmd_postfix": ") ",
     "delete_cmd_prefix": "rm(",
     "library": "var_list.r",
     "varRefreshCmd": "cat(var_dic_list()) "
    }
   },
   "types_to_exclude": [
    "module",
    "function",
    "builtin_function_or_method",
    "instance",
    "_Feature"
   ],
   "window_display": false
  }
 },
 "nbformat": 4,
 "nbformat_minor": 4
}
